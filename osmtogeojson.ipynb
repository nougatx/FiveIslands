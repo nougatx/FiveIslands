{
 "cells": [
  {
   "cell_type": "code",
   "execution_count": 2,
   "metadata": {},
   "outputs": [
    {
     "name": "stderr",
     "output_type": "stream",
     "text": [
      "C:\\Users\\Naseeba Rehman\\AppData\\Local\\Temp\\ipykernel_41232\\1560960640.py:4: FutureWarning: The `geometries` module and `geometries_from_X` functions have been renamed the `features` module and `features_from_X` functions. Use these instead. The `geometries` module and function names are deprecated and will be removed in the v2.0.0 release. See the OSMnx v2 migration guide: https://github.com/gboeing/osmnx/issues/1123\n",
      "  gdf = ox.geometries_from_xml('adamstown.osm')\n"
     ]
    }
   ],
   "source": [
    "import osmnx as ox\n",
    "import geopandas as gpd\n",
    "\n",
    "gdf = ox.geometries_from_xml('adamstown.osm')\n",
    "\n",
    "# Extract roads\n",
    "roads = gdf[gdf['highway'].notnull()]\n",
    "roads.to_file('adamstown2/roads.geojson', driver='GeoJSON')\n",
    "\n",
    "# Extract buildings\n",
    "buildings = gdf[gdf['building'].notnull()]\n",
    "buildings.to_file('adamstown2/buildings.geojson', driver='GeoJSON')\n",
    "\n",
    "# Extract land use\n",
    "landuse = gdf[gdf['landuse'].notnull()]\n",
    "landuse.to_file('landuse.geojson', driver='GeoJSON')\n",
    "\n",
    "# gdf.to_file('adamstown1.geojson', driver = 'GeoJSON')"
   ]
  },
  {
   "cell_type": "code",
   "execution_count": 3,
   "metadata": {},
   "outputs": [],
   "source": [
    "# Extract land use\n",
    "landuse = gdf[gdf['landuse'].notnull()]\n",
    "landuse.to_file('landuse.geojson', driver='GeoJSON')"
   ]
  },
  {
   "cell_type": "markdown",
   "metadata": {},
   "source": [
    "extracting diomede geojsons"
   ]
  },
  {
   "cell_type": "code",
   "execution_count": 4,
   "metadata": {},
   "outputs": [
    {
     "name": "stderr",
     "output_type": "stream",
     "text": [
      "C:\\Users\\Naseeba Rehman\\AppData\\Local\\Temp\\ipykernel_41232\\13598661.py:4: FutureWarning: The `geometries` module and `geometries_from_X` functions have been renamed the `features` module and `features_from_X` functions. Use these instead. The `geometries` module and function names are deprecated and will be removed in the v2.0.0 release. See the OSMnx v2 migration guide: https://github.com/gboeing/osmnx/issues/1123\n",
      "  gdf = ox.geometries_from_xml('diomede.osm')\n"
     ]
    }
   ],
   "source": [
    "import osmnx as ox\n",
    "import geopandas as gpd\n",
    "\n",
    "gdf = ox.geometries_from_xml('diomede.osm')\n",
    "\n",
    "# Extract roads\n",
    "roads = gdf[gdf['highway'].notnull()]\n",
    "roads.to_file('diomede3/roads.geojson', driver='GeoJSON')\n",
    "\n",
    "# Extract buildings\n",
    "buildings = gdf[gdf['building'].notnull()]\n",
    "buildings.to_file('diomede3/buildings.geojson', driver='GeoJSON')\n",
    "\n",
    "# Extract land use\n",
    "landuse = gdf[gdf['landuse'].notnull()]\n",
    "landuse.to_file('diomede3/landuse.geojson', driver='GeoJSON')\n",
    "\n",
    "# gdf.to_file('adamstown1.geojson', driver = 'GeoJSON')"
   ]
  },
  {
   "cell_type": "markdown",
   "metadata": {},
   "source": [
    "extracting saint helena geojsons"
   ]
  },
  {
   "cell_type": "code",
   "execution_count": 5,
   "metadata": {},
   "outputs": [
    {
     "name": "stderr",
     "output_type": "stream",
     "text": [
      "C:\\Users\\Naseeba Rehman\\AppData\\Local\\Temp\\ipykernel_41232\\2772814187.py:4: FutureWarning: The `geometries` module and `geometries_from_X` functions have been renamed the `features` module and `features_from_X` functions. Use these instead. The `geometries` module and function names are deprecated and will be removed in the v2.0.0 release. See the OSMnx v2 migration guide: https://github.com/gboeing/osmnx/issues/1123\n",
      "  gdf = ox.geometries_from_xml('sainthelena.osm')\n"
     ]
    }
   ],
   "source": [
    "import osmnx as ox\n",
    "import geopandas as gpd\n",
    "\n",
    "gdf = ox.geometries_from_xml('sainthelena.osm')\n",
    "\n",
    "# Extract roads\n",
    "roads = gdf[gdf['highway'].notnull()]\n",
    "roads.to_file('sainthelena4/roads.geojson', driver='GeoJSON')\n",
    "\n",
    "# Extract buildings\n",
    "buildings = gdf[gdf['building'].notnull()]\n",
    "buildings.to_file('sainthelena4/buildings.geojson', driver='GeoJSON')\n",
    "\n",
    "# Extract land use\n",
    "landuse = gdf[gdf['landuse'].notnull()]\n",
    "landuse.to_file('sainthelena4/landuse.geojson', driver='GeoJSON')\n",
    "\n",
    "# gdf.to_file('adamstown1.geojson', driver = 'GeoJSON')"
   ]
  },
  {
   "cell_type": "markdown",
   "metadata": {},
   "source": [
    "extracting ascension geojsons"
   ]
  },
  {
   "cell_type": "code",
   "execution_count": 6,
   "metadata": {},
   "outputs": [
    {
     "name": "stderr",
     "output_type": "stream",
     "text": [
      "C:\\Users\\Naseeba Rehman\\AppData\\Local\\Temp\\ipykernel_41232\\1428884783.py:4: FutureWarning: The `geometries` module and `geometries_from_X` functions have been renamed the `features` module and `features_from_X` functions. Use these instead. The `geometries` module and function names are deprecated and will be removed in the v2.0.0 release. See the OSMnx v2 migration guide: https://github.com/gboeing/osmnx/issues/1123\n",
      "  gdf = ox.geometries_from_xml('ascension.osm')\n"
     ]
    }
   ],
   "source": [
    "import osmnx as ox\n",
    "import geopandas as gpd\n",
    "\n",
    "gdf = ox.geometries_from_xml('ascension.osm')\n",
    "\n",
    "# Extract roads\n",
    "roads = gdf[gdf['highway'].notnull()]\n",
    "roads.to_file('ascension5/roads.geojson', driver='GeoJSON')\n",
    "\n",
    "# Extract buildings\n",
    "buildings = gdf[gdf['building'].notnull()]\n",
    "buildings.to_file('ascension5/buildings.geojson', driver='GeoJSON')\n",
    "\n",
    "# Extract land use\n",
    "landuse = gdf[gdf['landuse'].notnull()]\n",
    "landuse.to_file('ascension5/landuse.geojson', driver='GeoJSON')\n",
    "\n",
    "# gdf.to_file('adamstown1.geojson', driver = 'GeoJSON')"
   ]
  }
 ],
 "metadata": {
  "kernelspec": {
   "display_name": "Python 3",
   "language": "python",
   "name": "python3"
  },
  "language_info": {
   "codemirror_mode": {
    "name": "ipython",
    "version": 3
   },
   "file_extension": ".py",
   "mimetype": "text/x-python",
   "name": "python",
   "nbconvert_exporter": "python",
   "pygments_lexer": "ipython3",
   "version": "3.11.1"
  }
 },
 "nbformat": 4,
 "nbformat_minor": 2
}
